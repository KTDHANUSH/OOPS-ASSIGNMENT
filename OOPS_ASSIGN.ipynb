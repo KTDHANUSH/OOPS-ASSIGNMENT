{
  "nbformat": 4,
  "nbformat_minor": 0,
  "metadata": {
    "colab": {
      "provenance": []
    },
    "kernelspec": {
      "name": "python3",
      "display_name": "Python 3"
    },
    "language_info": {
      "name": "python"
    }
  },
  "cells": [
    {
      "cell_type": "markdown",
      "source": [
        "### ***THEORY QUESTIONS***\n",
        "\n",
        "---\n",
        "\n"
      ],
      "metadata": {
        "id": "xSS8cc8cZQnD"
      }
    },
    {
      "cell_type": "markdown",
      "source": [
        "**1.What is Object-Oriented Programming (OOP)?**\n",
        "OOP is a programming approach that organizes code using classes and objects, focusing on real-world modeling. It promotes code reusability, modularity, and flexibility."
      ],
      "metadata": {
        "id": "CufU4KGMZZ96"
      }
    },
    {
      "cell_type": "code",
      "source": [
        "# EXP -In Python, class Car: defines a car blueprint; objects like my_car = Car() are created from it."
      ],
      "metadata": {
        "id": "abcIvM2CZtcW"
      },
      "execution_count": 2,
      "outputs": []
    },
    {
      "cell_type": "markdown",
      "source": [
        "**2. What is a class in OOP?**\n",
        "\n",
        "A class is a blueprint or template for creating objects. It defines the attributes (variables) and behaviors (methods) that objects created from the class will have.\n"
      ],
      "metadata": {
        "id": "pAXwoQnOZaBa"
      }
    },
    {
      "cell_type": "code",
      "source": [
        "class Car:\n",
        "    def __init__(self, model):\n",
        "        self.model = model\n"
      ],
      "metadata": {
        "id": "h_2BQfrPaUNx"
      },
      "execution_count": 6,
      "outputs": []
    },
    {
      "cell_type": "markdown",
      "source": [
        "**3. What is an object in OOP?**\n",
        "\n",
        "An object is an instance of a class. It holds data and functions defined in the class"
      ],
      "metadata": {
        "id": "6FVSzdA7ZaFJ"
      }
    },
    {
      "cell_type": "code",
      "source": [
        "car1 = Car(\"BMW\")\n"
      ],
      "metadata": {
        "id": "SBeK6CqYawqg"
      },
      "execution_count": 7,
      "outputs": []
    },
    {
      "cell_type": "markdown",
      "source": [
        "**4. Difference between abstraction and encapsulation:**\n",
        "\n",
        "Abstraction hides implementation details.\n",
        "\n",
        "Encapsulation protects data by keeping it in one unit and controlling access using private variables."
      ],
      "metadata": {
        "id": "ZCfxmB3-ZaHn"
      }
    },
    {
      "cell_type": "markdown",
      "source": [
        "**5. What are dunder methods in Python?**\n",
        "\n",
        "Dunder (Double UnderScore) methods like __init__, __str__, etc., are special functions that control how objects behave."
      ],
      "metadata": {
        "id": "6LNhXx3rZaLT"
      }
    },
    {
      "cell_type": "markdown",
      "source": [
        "**6. Explain the concept of inheritance in OOP:**\n",
        "\n",
        "Inheritance allows one class to use the properties and methods of another."
      ],
      "metadata": {
        "id": "1pMqAmpbZaO0"
      }
    },
    {
      "cell_type": "code",
      "source": [
        "class Parent: pass\n",
        "class Child(Parent): pass\n"
      ],
      "metadata": {
        "id": "dElLOl4aa_CG"
      },
      "execution_count": 8,
      "outputs": []
    },
    {
      "cell_type": "markdown",
      "source": [
        "**7. What is polymorphism in OOP?**\n",
        "\n",
        "Polymorphism means different classes can define the same method name but behave differently."
      ],
      "metadata": {
        "id": "TBrN74x_ZaRo"
      }
    },
    {
      "cell_type": "markdown",
      "source": [
        "**8. How is encapsulation achieved in Python?**\n",
        "\n",
        "Using private variables (with __) and defining getter and setter methods."
      ],
      "metadata": {
        "id": "8yZ6mYgUZaVe"
      }
    },
    {
      "cell_type": "markdown",
      "source": [
        "**9. What is a constructor in Python?**\n",
        "\n",
        "__init__() is the constructor method. It's called automatically when an object is created."
      ],
      "metadata": {
        "id": "AV6Ql11TZavx"
      }
    },
    {
      "cell_type": "markdown",
      "source": [
        "**10. What are class and static methods in Python?**\n",
        "\n",
        "\n",
        "@classmethod works with the class itself (cls).\n",
        "\n",
        "@staticmethod is independent and doesn't access class or instance variables."
      ],
      "metadata": {
        "id": "fhFKeVpEZa1p"
      }
    },
    {
      "cell_type": "markdown",
      "source": [
        "**11. What is method overloading in Python?**\n",
        "\n",
        "Python doesn’t support traditional overloading, but it can be done using default parameters or *args."
      ],
      "metadata": {
        "id": "p1hmFqaTZa4x"
      }
    },
    {
      "cell_type": "markdown",
      "source": [
        "**12. What is method overriding in OOP?**\n",
        "\n",
        "A child class redefines a method from its parent class."
      ],
      "metadata": {
        "id": "iUgCUcclZa8o"
      }
    },
    {
      "cell_type": "markdown",
      "source": [
        "**13. What is a property decorator in Python?**\n",
        "\n",
        "@property makes a method act like an attribute. Useful for getters and setters."
      ],
      "metadata": {
        "id": "VZ7vbmhQZa_g"
      }
    },
    {
      "cell_type": "markdown",
      "source": [
        "**14. Why is polymorphism important in OOP?**\n",
        "\n",
        "It allows flexibility, reusability, and the ability to handle different object types through a single interface."
      ],
      "metadata": {
        "id": "Vo-FaHmbZbC3"
      }
    },
    {
      "cell_type": "markdown",
      "source": [
        "**15. What is an abstract class in Python?**\n",
        "\n",
        "A class that cannot be instantiated. It contains abstract methods and is defined using the abc module"
      ],
      "metadata": {
        "id": "UUX0fSlsZbG0"
      }
    },
    {
      "cell_type": "markdown",
      "source": [
        "**16. What are the advantages of OOP?**\n",
        "\n",
        "\n",
        "Code reuse (inheritance)\n",
        "\n",
        "Data protection (encapsulation)\n",
        "\n",
        "Better organization\n",
        "\n",
        "Real-world modeling"
      ],
      "metadata": {
        "id": "el8qc5sYZbKi"
      }
    },
    {
      "cell_type": "markdown",
      "source": [
        "**17. Difference between class variable and instance variable:**\n",
        "\n",
        "\n",
        "Class variable is shared across all objects.\n",
        "\n",
        "Instance variable is unique to each object."
      ],
      "metadata": {
        "id": "rOuPOWPcZbNY"
      }
    },
    {
      "cell_type": "markdown",
      "source": [
        "**18. What is multiple inheritance in Python?**\n",
        "\n",
        "A class can inherit from multiple parent classes."
      ],
      "metadata": {
        "id": "lHvdFUsYZbQU"
      }
    },
    {
      "cell_type": "code",
      "source": [
        "class C(A, B): pass\n"
      ],
      "metadata": {
        "id": "cg6MAzx0bhrj"
      },
      "execution_count": null,
      "outputs": []
    },
    {
      "cell_type": "markdown",
      "source": [
        "**19. Purpose of __str__ and __repr__ methods in Python:**\n",
        "\n",
        "\n",
        "__str__: readable output for users.\n",
        "\n",
        "__repr__: detailed output for developers/debugging"
      ],
      "metadata": {
        "id": "yTzvt08ZZbVP"
      }
    },
    {
      "cell_type": "markdown",
      "source": [
        "**20. Significance of super() function in Python:**\n",
        "\n",
        "super() is used to call parent class methods inside a child class."
      ],
      "metadata": {
        "id": "faG3QYUDZbbs"
      }
    },
    {
      "cell_type": "markdown",
      "source": [
        "**21. Significance of __del__ method in Python:**\n",
        "\n",
        "__del__ is a destructor method called when an object is deleted, to clean up memory."
      ],
      "metadata": {
        "id": "RJeFVO7RZbei"
      }
    },
    {
      "cell_type": "markdown",
      "source": [
        "**22. Difference between @staticmethod and @classmethod:**\n",
        "\n",
        "\n",
        "@staticmethod → no self or cls, independent method.\n",
        "\n",
        "@classmethod → takes cls, works with class variables"
      ],
      "metadata": {
        "id": "Pj2iOdOZZbiJ"
      }
    },
    {
      "cell_type": "markdown",
      "source": [
        "**23. How does polymorphism work in Python with inheritance?**\n",
        "\n",
        "Child classes can override parent methods. When called via parent reference, child version runs"
      ],
      "metadata": {
        "id": "2KdYzyoWZbmW"
      }
    },
    {
      "cell_type": "markdown",
      "source": [
        "**24. What is method chaining in Python OOP?**\n",
        "\n",
        "Calling multiple methods on an object in one line."
      ],
      "metadata": {
        "id": "Ao8X0Q0XZbwd"
      }
    },
    {
      "cell_type": "code",
      "source": [
        "obj.setName(\"Dan\").setAge(20).show()\n"
      ],
      "metadata": {
        "id": "5Ug35W-Vbw5U"
      },
      "execution_count": null,
      "outputs": []
    },
    {
      "cell_type": "markdown",
      "source": [
        "**25. Purpose of the __call__ method in Python?**\n",
        "\n",
        "Makes the object behave like a function."
      ],
      "metadata": {
        "id": "MeeFn2LyZbzV"
      }
    },
    {
      "cell_type": "code",
      "source": [
        "def __call__(self): print(\"Object called like a function\")\n"
      ],
      "metadata": {
        "id": "HzEQPhO2b0OV"
      },
      "execution_count": null,
      "outputs": []
    },
    {
      "cell_type": "markdown",
      "source": [
        "***# Practical Questions***\n",
        "\n",
        "---\n",
        "\n"
      ],
      "metadata": {
        "id": "yhJUDiNtc2eb"
      }
    },
    {
      "cell_type": "code",
      "source": [
        "#1. Create a parent class Animal with a method speak() that prints a generic message. Create a child class Dogthat overrides the speak() method to print \"Bark!\".\n",
        "class Animal:\n",
        "    def speak(self):\n",
        "        print(\"The animal makes a sound\")\n",
        "\n",
        "class Dog(Animal):\n",
        "    def speak(self):\n",
        "        print(\"Bark!\")\n",
        "\n",
        "d = Dog()\n",
        "d.speak()\n"
      ],
      "metadata": {
        "colab": {
          "base_uri": "https://localhost:8080/"
        },
        "id": "5AokwhYJdMBc",
        "outputId": "affae940-6539-47e2-fc78-d66c1e9fcf08"
      },
      "execution_count": 9,
      "outputs": [
        {
          "output_type": "stream",
          "name": "stdout",
          "text": [
            "Bark!\n"
          ]
        }
      ]
    },
    {
      "cell_type": "code",
      "source": [
        "#2. Write a program to create an abstract class Shape with a method area(). Derive classes Circle and Rectanglefrom it and implement the area() method in both.\n",
        "from abc import ABC, abstractmethod\n",
        "\n",
        "class Shape(ABC):\n",
        "    @abstractmethod\n",
        "    def area(self):\n",
        "        pass\n",
        "\n",
        "class Circle(Shape):\n",
        "    def __init__(self, radius):\n",
        "        self.radius = radius\n",
        "\n",
        "    def area(self):\n",
        "        return 3.14 * self.radius * self.radius\n",
        "\n",
        "class Rectangle(Shape):\n",
        "    def __init__(self, length, width):\n",
        "        self.length = length\n",
        "        self.width = width\n",
        "\n",
        "    def area(self):\n",
        "        return self.length * self.width\n",
        "\n",
        "c = Circle(5)\n",
        "r = Rectangle(4, 6)\n",
        "print(\"Circle Area:\", c.area())\n",
        "print(\"Rectangle Area:\", r.area())\n"
      ],
      "metadata": {
        "colab": {
          "base_uri": "https://localhost:8080/"
        },
        "id": "8yrR7cgsdMFo",
        "outputId": "0f142613-f7ee-41d2-bfa2-44e09157946f"
      },
      "execution_count": 10,
      "outputs": [
        {
          "output_type": "stream",
          "name": "stdout",
          "text": [
            "Circle Area: 78.5\n",
            "Rectangle Area: 24\n"
          ]
        }
      ]
    },
    {
      "cell_type": "code",
      "source": [
        "#3. Implement a multi-level inheritance scenario where a class Vehicle has an attribute type. Derive a class Carand further derive a class ElectricCar that adds a battery attribute.\n",
        "class Vehicle:\n",
        "    def __init__(self, vehicle_type):\n",
        "        self.type = vehicle_type\n",
        "\n",
        "class Car(Vehicle):\n",
        "    def __init__(self, vehicle_type, brand):\n",
        "        super().__init__(vehicle_type)\n",
        "        self.brand = brand\n",
        "\n",
        "class ElectricCar(Car):\n",
        "    def __init__(self, vehicle_type, brand, battery):\n",
        "        super().__init__(vehicle_type, brand)\n",
        "        self.battery = battery\n",
        "\n",
        "ecar = ElectricCar(\"Four-Wheeler\", \"Tesla\", \"100 kWh\")\n",
        "print(ecar.type, ecar.brand, ecar.battery)\n"
      ],
      "metadata": {
        "colab": {
          "base_uri": "https://localhost:8080/"
        },
        "id": "cJFIeU1fdMKP",
        "outputId": "86507f8e-0b20-4bbd-a7b4-ab34f0b1950f"
      },
      "execution_count": 11,
      "outputs": [
        {
          "output_type": "stream",
          "name": "stdout",
          "text": [
            "Four-Wheeler Tesla 100 kWh\n"
          ]
        }
      ]
    },
    {
      "cell_type": "code",
      "source": [
        "#4. Demonstrate polymorphism by creating a base class Bird with a method fly(). Create two derived classesSparrow and Penguin that override the fly() method.\n",
        "class Bird:\n",
        "    def fly(self):\n",
        "        print(\"Bird is flying\")\n",
        "\n",
        "class Sparrow(Bird):\n",
        "    def fly(self):\n",
        "        print(\"Sparrow flies high\")\n",
        "\n",
        "class Penguin(Bird):\n",
        "    def fly(self):\n",
        "        print(\"Penguins cannot fly\")\n",
        "\n",
        "birds = [Sparrow(), Penguin()]\n",
        "for bird in birds:\n",
        "    bird.fly()\n"
      ],
      "metadata": {
        "colab": {
          "base_uri": "https://localhost:8080/"
        },
        "id": "eZkymraXdMPA",
        "outputId": "ef836156-9a81-4a0f-a974-9432e6450d24"
      },
      "execution_count": 12,
      "outputs": [
        {
          "output_type": "stream",
          "name": "stdout",
          "text": [
            "Sparrow flies high\n",
            "Penguins cannot fly\n"
          ]
        }
      ]
    },
    {
      "cell_type": "code",
      "source": [
        "#5. Write a program to demonstrate encapsulation by creating a class BankAccount with private attributesbalance and methods to deposit, withdraw, and check balance.\n",
        "class BankAccount:\n",
        "    def __init__(self):\n",
        "        self.__balance = 0\n",
        "\n",
        "    def deposit(self, amount):\n",
        "        self.__balance += amount\n",
        "\n",
        "    def withdraw(self, amount):\n",
        "        if amount <= self.__balance:\n",
        "            self.__balance -= amount\n",
        "        else:\n",
        "            print(\"Insufficient funds\")\n",
        "\n",
        "    def check_balance(self):\n",
        "        return self.__balance\n",
        "\n",
        "acc = BankAccount()\n",
        "acc.deposit(1000)\n",
        "acc.withdraw(300)\n",
        "print(\"Balance:\", acc.check_balance())\n"
      ],
      "metadata": {
        "colab": {
          "base_uri": "https://localhost:8080/"
        },
        "id": "OUq3bmQLdMR4",
        "outputId": "a412d5a1-5e89-418e-d7b1-c77d5a7faa7f"
      },
      "execution_count": 13,
      "outputs": [
        {
          "output_type": "stream",
          "name": "stdout",
          "text": [
            "Balance: 700\n"
          ]
        }
      ]
    },
    {
      "cell_type": "code",
      "source": [
        "#6. Demonstrate runtime polymorphism using a method play() in a base class Instrument. Derive classes Guitarand Piano that implement their own version of play().\n",
        "class Instrument:\n",
        "    def play(self):\n",
        "        print(\"Playing instrument\")\n",
        "\n",
        "class Guitar(Instrument):\n",
        "    def play(self):\n",
        "        print(\"Strumming the guitar\")\n",
        "\n",
        "class Piano(Instrument):\n",
        "    def play(self):\n",
        "        print(\"Playing the piano\")\n",
        "\n",
        "instruments = [Guitar(), Piano()]\n",
        "for inst in instruments:\n",
        "    inst.play()\n",
        "\n"
      ],
      "metadata": {
        "colab": {
          "base_uri": "https://localhost:8080/"
        },
        "id": "6YmGUEmbdMUn",
        "outputId": "f3d87397-af8c-4205-c705-e97b6f4bb4f2"
      },
      "execution_count": 14,
      "outputs": [
        {
          "output_type": "stream",
          "name": "stdout",
          "text": [
            "Strumming the guitar\n",
            "Playing the piano\n"
          ]
        }
      ]
    },
    {
      "cell_type": "code",
      "source": [
        "#7. Create a class MathOperations with a class method add_numbers() to add two numbers and a staticmethod subtract_numbers() to subtract two numbers.\n",
        "class MathOperations:\n",
        "    @classmethod\n",
        "    def add_numbers(cls, a, b):\n",
        "        return a + b\n",
        "\n",
        "    @staticmethod\n",
        "    def subtract_numbers(a, b):\n",
        "        return a - b\n",
        "\n",
        "print(\"Addition:\", MathOperations.add_numbers(10, 5))\n",
        "print(\"Subtraction:\", MathOperations.subtract_numbers(10, 5))\n"
      ],
      "metadata": {
        "colab": {
          "base_uri": "https://localhost:8080/"
        },
        "id": "fDdohMQxdNIl",
        "outputId": "815f3648-a4ef-42e4-8f5f-8a39ae39c04d"
      },
      "execution_count": 15,
      "outputs": [
        {
          "output_type": "stream",
          "name": "stdout",
          "text": [
            "Addition: 15\n",
            "Subtraction: 5\n"
          ]
        }
      ]
    },
    {
      "cell_type": "code",
      "source": [
        "#8. Implement a class Person with a class method to count the total number of persons created.\n",
        "class Person:\n",
        "    count = 0\n",
        "\n",
        "    def __init__(self, name):\n",
        "        self.name = name\n",
        "        Person.count += 1\n",
        "\n",
        "    @classmethod\n",
        "    def total_persons(cls):\n",
        "        return cls.count\n",
        "\n",
        "p1 = Person(\"Ram\")\n",
        "p2 = Person(\"Shyam\")\n",
        "print(\"Total Persons:\", Person.total_persons())\n"
      ],
      "metadata": {
        "colab": {
          "base_uri": "https://localhost:8080/"
        },
        "id": "U0d_x8WpdNPY",
        "outputId": "abfbb4d6-ae6f-4c5f-d7f9-07bb9e37cc15"
      },
      "execution_count": 16,
      "outputs": [
        {
          "output_type": "stream",
          "name": "stdout",
          "text": [
            "Total Persons: 2\n"
          ]
        }
      ]
    },
    {
      "cell_type": "code",
      "source": [
        "#9. Write a class Fraction with attributes numerator and denominator. Override the str method to display thefraction as \"numerator/denominator\".\n",
        "class Fraction:\n",
        "    def __init__(self, numerator, denominator):\n",
        "        self.numerator = numerator\n",
        "        self.denominator = denominator\n",
        "\n",
        "    def __str__(self):\n",
        "        return f\"{self.numerator}/{self.denominator}\"\n",
        "\n",
        "f = Fraction(3, 4)\n",
        "print(f)\n"
      ],
      "metadata": {
        "colab": {
          "base_uri": "https://localhost:8080/"
        },
        "id": "sxXn2FSOdNTD",
        "outputId": "38c5b222-55e9-4035-b453-d0121b3a6599"
      },
      "execution_count": 17,
      "outputs": [
        {
          "output_type": "stream",
          "name": "stdout",
          "text": [
            "3/4\n"
          ]
        }
      ]
    },
    {
      "cell_type": "code",
      "source": [
        "#10. Demonstrate operator overloading by creating a class Vector and overriding the add method to add twovectors.\n",
        "class Vector:\n",
        "    def __init__(self, x, y):\n",
        "        self.x = x\n",
        "        self.y = y\n",
        "\n",
        "    def __add__(self, other):\n",
        "        return Vector(self.x + other.x, self.y + other.y)\n",
        "\n",
        "    def __str__(self):\n",
        "        return f\"({self.x}, {self.y})\"\n",
        "\n",
        "v1 = Vector(2, 3)\n",
        "v2 = Vector(4, 5)\n",
        "v3 = v1 + v2\n",
        "print(\"Resultant Vector:\", v3)\n"
      ],
      "metadata": {
        "colab": {
          "base_uri": "https://localhost:8080/"
        },
        "id": "gAbbDKONdNYv",
        "outputId": "df4d3868-c5fe-4876-edaf-4aac518042d9"
      },
      "execution_count": 18,
      "outputs": [
        {
          "output_type": "stream",
          "name": "stdout",
          "text": [
            "Resultant Vector: (6, 8)\n"
          ]
        }
      ]
    },
    {
      "cell_type": "code",
      "source": [
        "#11. Create a class Person with attributes name and age. Add a method greet() that prints \"Hello, my name is{name} and I am {age} years old.\"\n",
        "class Person:\n",
        "    def __init__(self, name, age):\n",
        "        self.name = name\n",
        "        self.age = age\n",
        "\n",
        "    def greet(self):\n",
        "        print(f\"Hello, my name is {self.name} and I am {self.age} years old.\")\n",
        "\n",
        "p = Person(\"Dhanush\", 20)\n",
        "p.greet()\n"
      ],
      "metadata": {
        "colab": {
          "base_uri": "https://localhost:8080/"
        },
        "id": "P83YMwTEeOJt",
        "outputId": "50356d29-9e8d-4aed-d8d9-986f4dc52139"
      },
      "execution_count": 20,
      "outputs": [
        {
          "output_type": "stream",
          "name": "stdout",
          "text": [
            "Hello, my name is Dhanush and I am 20 years old.\n"
          ]
        }
      ]
    },
    {
      "cell_type": "code",
      "source": [
        "#12. Implement a class Student with attributes name and grades. Create a method average_grade() to computethe average of the grades.\n",
        "class Student:\n",
        "    def __init__(self, name, grades):\n",
        "        self.name = name\n",
        "        self.grades = grades\n",
        "\n",
        "    def average_grade(self):\n",
        "        return sum(self.grades) / len(self.grades)\n",
        "\n",
        "s = Student(\"Ravi\", [90, 85, 78])\n",
        "print(\"Average Grade:\", s.average_grade())\n"
      ],
      "metadata": {
        "colab": {
          "base_uri": "https://localhost:8080/"
        },
        "id": "meKN_1qWeOPf",
        "outputId": "00564238-9c63-4298-bc8d-adcc37ef6466"
      },
      "execution_count": 21,
      "outputs": [
        {
          "output_type": "stream",
          "name": "stdout",
          "text": [
            "Average Grade: 84.33333333333333\n"
          ]
        }
      ]
    },
    {
      "cell_type": "code",
      "source": [
        "#13. Create a class Rectangle with methods set_dimensions() to set the dimensions and area() to calculate thearea.\n",
        "class Rectangle:\n",
        "    def set_dimensions(self, length, width):\n",
        "        self.length = length\n",
        "        self.width = width\n",
        "\n",
        "    def area(self):\n",
        "        return self.length * self.width\n",
        "\n",
        "r = Rectangle()\n",
        "r.set_dimensions(5, 3)\n",
        "print(\"Area of Rectangle:\", r.area())\n"
      ],
      "metadata": {
        "colab": {
          "base_uri": "https://localhost:8080/"
        },
        "id": "UYCKrulweOUb",
        "outputId": "0e9664c6-e5c8-4c2c-e159-fd1bcfc14f0b"
      },
      "execution_count": 22,
      "outputs": [
        {
          "output_type": "stream",
          "name": "stdout",
          "text": [
            "Area of Rectangle: 15\n"
          ]
        }
      ]
    },
    {
      "cell_type": "code",
      "source": [
        "#14. Create a class Employee with a method calculate_salary() that computes the salary based on hours workedand hourly rate. Create a derived class Manager that adds a bonus to the salary\n",
        "class Employee:\n",
        "    def calculate_salary(self, hours, rate):\n",
        "        return hours * rate\n",
        "\n",
        "class Manager(Employee):\n",
        "    def calculate_salary(self, hours, rate, bonus):\n",
        "        return super().calculate_salary(hours, rate) + bonus\n",
        "\n",
        "e = Employee()\n",
        "m = Manager()\n",
        "print(\"Employee Salary:\", e.calculate_salary(40, 200))\n",
        "print(\"Manager Salary:\", m.calculate_salary(40, 200, 5000))\n"
      ],
      "metadata": {
        "colab": {
          "base_uri": "https://localhost:8080/"
        },
        "id": "r6mjnjPeeOZw",
        "outputId": "5adfd44c-bd5d-4d8a-aa9c-a6fe3a62f444"
      },
      "execution_count": 23,
      "outputs": [
        {
          "output_type": "stream",
          "name": "stdout",
          "text": [
            "Employee Salary: 8000\n",
            "Manager Salary: 13000\n"
          ]
        }
      ]
    },
    {
      "cell_type": "code",
      "source": [
        "#15. Create a class Product with attributes name, price, and quantity. Implement a method total_price() thatcalculates the total price of the product.\n",
        "class Product:\n",
        "    def __init__(self, name, price, quantity):\n",
        "        self.name = name\n",
        "        self.price = price\n",
        "        self.quantity = quantity\n",
        "\n",
        "    def total_price(self):\n",
        "        return self.price * self.quantity\n",
        "\n",
        "p = Product(\"Laptop\", 50000, 2)\n",
        "print(\"Total Price:\", p.total_price())\n",
        "\n"
      ],
      "metadata": {
        "colab": {
          "base_uri": "https://localhost:8080/"
        },
        "id": "Xq0wyNzLeOdp",
        "outputId": "e23a46d7-d1e5-4ba8-843a-d54475cc95fa"
      },
      "execution_count": 24,
      "outputs": [
        {
          "output_type": "stream",
          "name": "stdout",
          "text": [
            "Total Price: 100000\n"
          ]
        }
      ]
    },
    {
      "cell_type": "code",
      "source": [
        "#16. Create a class Animal with an abstract method sound(). Create two derived classes Cow and Sheep thatimplement the sound() method.\n",
        "from abc import ABC, abstractmethod\n",
        "\n",
        "class Animal(ABC):\n",
        "    @abstractmethod\n",
        "    def sound(self):\n",
        "        pass\n",
        "\n",
        "class Cow(Animal):\n",
        "    def sound(self):\n",
        "        return \"Moo\"\n",
        "\n",
        "class Sheep(Animal):\n",
        "    def sound(self):\n",
        "        return \"Baa\"\n",
        "\n",
        "cow = Cow()\n",
        "sheep = Sheep()\n",
        "print(\"Cow:\", cow.sound())\n",
        "print(\"Sheep:\", sheep.sound())\n"
      ],
      "metadata": {
        "colab": {
          "base_uri": "https://localhost:8080/"
        },
        "id": "bxzymAL-egZh",
        "outputId": "cf411284-cb5c-458e-c341-c985b9327bb6"
      },
      "execution_count": 25,
      "outputs": [
        {
          "output_type": "stream",
          "name": "stdout",
          "text": [
            "Cow: Moo\n",
            "Sheep: Baa\n"
          ]
        }
      ]
    },
    {
      "cell_type": "code",
      "source": [
        "#17. Create a class Book with attributes title, author, and year_published. Add a method get_book_info() thatreturns a formatted string with the book's details.\n",
        "class Book:\n",
        "    def __init__(self, title, author, year_published):\n",
        "        self.title = title\n",
        "        self.author = author\n",
        "        self.year_published = year_published\n",
        "\n",
        "    def get_book_info(self):\n",
        "        return f\"'{self.title}' by {self.author}, published in {self.year_published}.\"\n",
        "\n",
        "b = Book(\"The Alchemist\", \"Paulo Coelho\", 1988)\n",
        "print(b.get_book_info())\n"
      ],
      "metadata": {
        "colab": {
          "base_uri": "https://localhost:8080/"
        },
        "id": "dkv_DdxxegNw",
        "outputId": "ae43149a-3cc3-4cf7-ba5e-7db492a48f95"
      },
      "execution_count": 26,
      "outputs": [
        {
          "output_type": "stream",
          "name": "stdout",
          "text": [
            "'The Alchemist' by Paulo Coelho, published in 1988.\n"
          ]
        }
      ]
    },
    {
      "cell_type": "code",
      "source": [
        "#18. Create a class House with attributes address and price. Create a derived class Mansion that adds anattribute number_of_rooms.\n",
        "class House:\n",
        "    def __init__(self, address, price):\n",
        "        self.address = address\n",
        "        self.price = price\n",
        "\n",
        "class Mansion(House):\n",
        "    def __init__(self, address, price, number_of_rooms):\n",
        "        super().__init__(address, price)\n",
        "        self.number_of_rooms = number_of_rooms\n",
        "\n",
        "    def show_info(self):\n",
        "        return f\"Mansion at {self.address} costs ₹{self.price} with {self.number_of_rooms} rooms.\"\n",
        "\n",
        "m = Mansion(\"MG Road, Bangalore\", 150000000, 10)\n",
        "print(m.show_info())\n"
      ],
      "metadata": {
        "colab": {
          "base_uri": "https://localhost:8080/"
        },
        "id": "wt7Jer3XegBf",
        "outputId": "f09a7db0-fde7-4f3e-a1d4-2636240bc11b"
      },
      "execution_count": 27,
      "outputs": [
        {
          "output_type": "stream",
          "name": "stdout",
          "text": [
            "Mansion at MG Road, Bangalore costs ₹150000000 with 10 rooms.\n"
          ]
        }
      ]
    }
  ]
}